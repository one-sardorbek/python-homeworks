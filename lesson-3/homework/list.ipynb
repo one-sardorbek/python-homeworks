{
 "cells": [
  {
   "cell_type": "markdown",
   "metadata": {},
   "source": [
    "list questions (1-40)"
   ]
  },
  {
   "cell_type": "code",
   "execution_count": null,
   "metadata": {},
   "outputs": [],
   "source": [
    "l=list(map(int,input(). split())) #consists integers\n",
    "a=int(input())\n",
    "print(l.count(a))"
   ]
  },
  {
   "cell_type": "code",
   "execution_count": null,
   "metadata": {},
   "outputs": [],
   "source": [
    "l=list(map(int,input(). split())) \n",
    "print(sum(l))"
   ]
  },
  {
   "cell_type": "code",
   "execution_count": null,
   "metadata": {},
   "outputs": [],
   "source": [
    "l=list(map(int,input(). split())) \n",
    "print(max(l))"
   ]
  },
  {
   "cell_type": "code",
   "execution_count": null,
   "metadata": {},
   "outputs": [],
   "source": [
    "l=list(map(int,input(). split())) \n",
    "print(min(l))"
   ]
  },
  {
   "cell_type": "code",
   "execution_count": null,
   "metadata": {},
   "outputs": [],
   "source": [
    "l=list(map(str ,input(). split()))\n",
    "a=input()\n",
    "if a in l:\n",
    "    print(a, \"exists in list\")\n",
    "else:\n",
    "    print(a,\"does not exist in list\")\n"
   ]
  },
  {
   "cell_type": "code",
   "execution_count": null,
   "metadata": {},
   "outputs": [],
   "source": [
    "l=list(map(str ,input(). split()))\n",
    "if len(l)!=0:\n",
    "    print(l[0])\n",
    "else:\n",
    "    print(\"list is empty\")\n"
   ]
  },
  {
   "cell_type": "code",
   "execution_count": null,
   "metadata": {},
   "outputs": [],
   "source": [
    "l=list(map(str ,input(). split()))\n",
    "if len(l)!=0:\n",
    "    print(l[-1])\n",
    "else:\n",
    "    print(\"list is empty\")\n"
   ]
  },
  {
   "cell_type": "code",
   "execution_count": null,
   "metadata": {},
   "outputs": [],
   "source": [
    "l=list(map(str ,input(). split()))\n",
    "\n",
    "if len(l)<3:\n",
    "    print(\"list should consist at least 3 elements\")\n",
    "else:\n",
    "    k=l[:3]\n",
    "    print(k)\n"
   ]
  },
  {
   "cell_type": "code",
   "execution_count": null,
   "metadata": {},
   "outputs": [],
   "source": [
    "l=list(map(str ,input(). split()))\n",
    "k=l[::-1]\n",
    "print(k)"
   ]
  },
  {
   "cell_type": "code",
   "execution_count": null,
   "metadata": {},
   "outputs": [],
   "source": [
    "l=list(map(str ,input(). split()))\n",
    "l.sort()\n",
    "print(l)"
   ]
  },
  {
   "cell_type": "code",
   "execution_count": null,
   "metadata": {},
   "outputs": [],
   "source": [
    "l=list(map(str ,input(). split()))\n",
    "k=[]\n",
    "for i in l:\n",
    "    if i not in k:\n",
    "        k.append(i)\n",
    "print(k)"
   ]
  },
  {
   "cell_type": "code",
   "execution_count": null,
   "metadata": {},
   "outputs": [],
   "source": [
    "l=list(map(str ,input(). split()))\n",
    "element=input()\n",
    "index=int(input())\n",
    "k=[]\n",
    "for i in range(len(l)):\n",
    "    if i==index:\n",
    "        k.append(element)\n",
    "        k.append(l[i])\n",
    "    else:\n",
    "        k.append(l[i])\n",
    "print(k)\n",
    "    "
   ]
  },
  {
   "cell_type": "code",
   "execution_count": null,
   "metadata": {},
   "outputs": [],
   "source": [
    "l=list(map(str ,input(). split()))\n",
    "a=input()\n",
    "print(l.index(a))"
   ]
  },
  {
   "cell_type": "code",
   "execution_count": null,
   "metadata": {},
   "outputs": [],
   "source": [
    "l=list(map(str ,input(). split()))\n",
    "len(l)==0"
   ]
  },
  {
   "cell_type": "code",
   "execution_count": null,
   "metadata": {},
   "outputs": [],
   "source": [
    "l=list(map(int ,input(). split()))\n",
    "even=0\n",
    "for i in l:\n",
    "    if i%2==0:\n",
    "        even+=1\n",
    "print(even)"
   ]
  },
  {
   "cell_type": "code",
   "execution_count": null,
   "metadata": {},
   "outputs": [],
   "source": [
    "l=list(map(int ,input(). split()))\n",
    "odd=0\n",
    "for i in l:\n",
    "    if i%2!=0:\n",
    "        odd+=1\n",
    "print(odd)"
   ]
  },
  {
   "cell_type": "code",
   "execution_count": null,
   "metadata": {},
   "outputs": [],
   "source": [
    "l1=list(map(int ,input(). split()))\n",
    "l2=list(map(int ,input(). split()))\n",
    "k=[]\n",
    "for i in l1:\n",
    "    k.append(i)\n",
    "for j in l2:\n",
    "    k.append(j)\n",
    "print(k)"
   ]
  },
  {
   "cell_type": "code",
   "execution_count": null,
   "metadata": {},
   "outputs": [],
   "source": [
    "l=list(map(int ,input(). split()))\n",
    "k=list(map(int ,input(). split()))\n",
    "m=0\n",
    "for i in k:\n",
    "    if i in l:\n",
    "        m+=1\n",
    "if m==len(k):\n",
    "    print(\"yes\")\n",
    "else:\n",
    "    print(\"no\")"
   ]
  },
  {
   "cell_type": "code",
   "execution_count": null,
   "metadata": {},
   "outputs": [],
   "source": [
    "l=list(map(str ,input(). split()))\n",
    "old=input()\n",
    "new=input()\n",
    "n=l.index(old)\n",
    "l[n]=new\n",
    "print(l)"
   ]
  },
  {
   "cell_type": "code",
   "execution_count": null,
   "metadata": {},
   "outputs": [],
   "source": [
    "l=list(map(int ,input(). split()))\n",
    "m=max(l)\n",
    "l.remove(m)\n",
    "print(max(l))"
   ]
  },
  {
   "cell_type": "code",
   "execution_count": null,
   "metadata": {},
   "outputs": [],
   "source": [
    "l=list(map(int ,input(). split()))\n",
    "m=min(l)\n",
    "l.remove(m)\n",
    "print(min(l))"
   ]
  },
  {
   "cell_type": "code",
   "execution_count": null,
   "metadata": {},
   "outputs": [],
   "source": [
    "l=list(map(int ,input(). split()))\n",
    "k=[]\n",
    "for i in l:\n",
    "    if i%2==0:\n",
    "        k.append(i)\n",
    "print(k)"
   ]
  },
  {
   "cell_type": "code",
   "execution_count": null,
   "metadata": {},
   "outputs": [],
   "source": [
    "l=list(map(int ,input(). split()))\n",
    "k=[]\n",
    "for i in l:\n",
    "    if i%2!=0:\n",
    "        k.append(i)\n",
    "print(k)"
   ]
  },
  {
   "cell_type": "code",
   "execution_count": null,
   "metadata": {},
   "outputs": [],
   "source": [
    "l=list(map(int ,input(). split()))\n",
    "print(len(l))"
   ]
  },
  {
   "cell_type": "code",
   "execution_count": null,
   "metadata": {},
   "outputs": [],
   "source": [
    "l=list(map(int ,input(). split()))\n",
    "k=l.copy()\n",
    "print(k)"
   ]
  },
  {
   "cell_type": "code",
   "execution_count": null,
   "metadata": {},
   "outputs": [],
   "source": [
    "l=list(map(int ,input(). split()))\n",
    "if len(l)%2==0:\n",
    "    print(l[len(l)//2],l[len(l)//2-1])\n",
    "else:\n",
    "    print(l[len(l)//2])"
   ]
  },
  {
   "cell_type": "code",
   "execution_count": null,
   "metadata": {},
   "outputs": [],
   "source": [
    "l=list(map(int ,input(). split()))\n",
    "print(2**(len(l)))"
   ]
  },
  {
   "cell_type": "code",
   "execution_count": null,
   "metadata": {},
   "outputs": [],
   "source": [
    "print(1)"
   ]
  },
  {
   "cell_type": "code",
   "execution_count": null,
   "metadata": {},
   "outputs": [],
   "source": [
    "l=list(map(int ,input(). split()))\n",
    "index=int(input())\n",
    "l.remove(l[index])\n",
    "print(l)"
   ]
  },
  {
   "cell_type": "code",
   "execution_count": null,
   "metadata": {},
   "outputs": [],
   "source": [
    "l=list(map(int ,input(). split()))\n",
    "a=sorted(l)\n",
    "a==l"
   ]
  },
  {
   "cell_type": "code",
   "execution_count": null,
   "metadata": {},
   "outputs": [],
   "source": [
    "l=list(map(int ,input(). split()))\n",
    "h=[]\n",
    "n=int(input())\n",
    "for j in l:\n",
    "    for i in range(n):\n",
    "        h.append(j)\n",
    "print(h)"
   ]
  },
  {
   "cell_type": "code",
   "execution_count": null,
   "metadata": {},
   "outputs": [],
   "source": [
    "l1=list(map(int ,input(). split()))\n",
    "l2=list(map(int ,input(). split()))\n",
    "k=[]\n",
    "for i in l1:\n",
    "    k.append(i)\n",
    "for j in l2:\n",
    "    k.append(j)\n",
    "k.sort()\n",
    "print(k)"
   ]
  },
  {
   "cell_type": "code",
   "execution_count": null,
   "metadata": {},
   "outputs": [],
   "source": [
    "l=list(map(int ,input(). split()))\n",
    "n=int(input())\n",
    "index=[]\n",
    "for i in range(len(l)):\n",
    "    if n in l:\n",
    "        index.append(l.index(n))\n",
    "        l.remove(n)\n",
    "print(index)"
   ]
  },
  {
   "cell_type": "code",
   "execution_count": null,
   "metadata": {},
   "outputs": [],
   "source": [
    "l=list(map(int ,input(). split()))\n",
    "k=[]\n",
    "k.append(l[-1])\n",
    "for i in l:\n",
    "    k.append(i)\n",
    "k.pop()\n",
    "print(k)"
   ]
  },
  {
   "cell_type": "code",
   "execution_count": null,
   "metadata": {},
   "outputs": [],
   "source": [
    "n=int(input())\n",
    "l=[]\n",
    "for i in range(1,n+1):\n",
    "    l.append(i)\n",
    "print(l)"
   ]
  },
  {
   "cell_type": "code",
   "execution_count": null,
   "metadata": {},
   "outputs": [],
   "source": [
    "l=list(map(int ,input(). split()))\n",
    "k=0\n",
    "for i in l:\n",
    "    if i>0:\n",
    "        k+=i\n",
    "print(k)"
   ]
  },
  {
   "cell_type": "code",
   "execution_count": null,
   "metadata": {},
   "outputs": [],
   "source": [
    "l=list(map(int ,input(). split()))\n",
    "k=0\n",
    "for i in l:\n",
    "    if i<0:\n",
    "        k+=i\n",
    "print(k)"
   ]
  },
  {
   "cell_type": "code",
   "execution_count": null,
   "metadata": {},
   "outputs": [],
   "source": [
    "l=list(map(int ,input(). split()))\n",
    "k=l[::-1]\n",
    "if k==l:\n",
    "    print(\"yes\")\n",
    "else:\n",
    "    print(\"no\")\n"
   ]
  },
  {
   "cell_type": "code",
   "execution_count": null,
   "metadata": {},
   "outputs": [],
   "source": [
    "l=list(map(int ,input(). split()))\n",
    "h=[]\n",
    "for i in l:\n",
    "    if i not in h:\n",
    "        h.append(i)\n",
    "print(h)"
   ]
  },
  {
   "cell_type": "markdown",
   "metadata": {},
   "source": [
    "Set tasks"
   ]
  },
  {
   "cell_type": "code",
   "execution_count": null,
   "metadata": {},
   "outputs": [],
   "source": [
    "set1=set(input().split())\n",
    "set2=set(input().split())\n",
    "s=set1.symmetric_difference(set2)\n",
    "print(s)\n"
   ]
  },
  {
   "cell_type": "code",
   "execution_count": null,
   "metadata": {},
   "outputs": [],
   "source": [
    "set1=set(input().split())\n",
    "set2=set(input().split())\n",
    "s=set1 & set2\n",
    "print(s)"
   ]
  },
  {
   "cell_type": "code",
   "execution_count": null,
   "metadata": {},
   "outputs": [],
   "source": [
    "set1=set(input().split())\n",
    "set2=set(input().split())\n",
    "s=set1-set2\n",
    "print(s)"
   ]
  },
  {
   "cell_type": "code",
   "execution_count": null,
   "metadata": {},
   "outputs": [],
   "source": [
    "set1=set(input().split())\n",
    "set2=set(input().split())\n",
    "s=set1-set2\n",
    "if len(s)==0:\n",
    "    print(\"yes\")\n",
    "else:\n",
    "    print(\"no\")"
   ]
  },
  {
   "cell_type": "code",
   "execution_count": null,
   "metadata": {},
   "outputs": [],
   "source": [
    "set1=set(input().split())\n",
    "a=input()\n",
    "if a in set1:\n",
    "    print(\"yes\")\n",
    "else:\n",
    "    print(\"no\")"
   ]
  },
  {
   "cell_type": "code",
   "execution_count": null,
   "metadata": {},
   "outputs": [],
   "source": [
    "set1=set(input().split())\n",
    "print(len(set1))"
   ]
  },
  {
   "cell_type": "code",
   "execution_count": null,
   "metadata": {},
   "outputs": [],
   "source": [
    "l=input().split()\n",
    "l=set(l)\n",
    "print(l)"
   ]
  },
  {
   "cell_type": "code",
   "execution_count": null,
   "metadata": {},
   "outputs": [],
   "source": [
    "set1=set(input().split())\n",
    "a=input()\n",
    "set1.remove(a)\n",
    "print(set1)"
   ]
  },
  {
   "cell_type": "code",
   "execution_count": null,
   "metadata": {},
   "outputs": [],
   "source": [
    "set1=set(input().split())\n",
    "set1.clear()\n",
    "print(set1)"
   ]
  },
  {
   "cell_type": "code",
   "execution_count": null,
   "metadata": {},
   "outputs": [],
   "source": [
    "set1=set(input().split())\n",
    "len(set1)==0"
   ]
  },
  {
   "cell_type": "code",
   "execution_count": null,
   "metadata": {},
   "outputs": [],
   "source": [
    "set1=set(input().split())\n",
    "set2=set(input().split())\n",
    "s=set1.symmetric_difference(set2)\n",
    "print(s)\n"
   ]
  },
  {
   "cell_type": "code",
   "execution_count": null,
   "metadata": {},
   "outputs": [],
   "source": [
    "set1=set(input().split())\n",
    "a=input()\n",
    "if a not in set1:\n",
    "    set1.add(a)\n",
    "print(set1)"
   ]
  },
  {
   "cell_type": "code",
   "execution_count": null,
   "metadata": {},
   "outputs": [],
   "source": [
    "set1=set(input().split())\n",
    "s=set1.pop()\n",
    "print(set1)"
   ]
  },
  {
   "cell_type": "code",
   "execution_count": null,
   "metadata": {},
   "outputs": [],
   "source": [
    "set1=set(input().split())\n",
    "print(max(set1))"
   ]
  },
  {
   "cell_type": "code",
   "execution_count": null,
   "metadata": {},
   "outputs": [],
   "source": [
    "set1=set(input().split())\n",
    "print(min(set1))"
   ]
  },
  {
   "cell_type": "code",
   "execution_count": null,
   "metadata": {},
   "outputs": [],
   "source": [
    "set1=set(map(int,input().split()))\n",
    "set2=set()\n",
    "for i in set1:\n",
    "    if i%2==0:\n",
    "        set2.add(i)\n",
    "print(set2)"
   ]
  },
  {
   "cell_type": "code",
   "execution_count": null,
   "metadata": {},
   "outputs": [],
   "source": [
    "set1=set(map(int,input().split()))\n",
    "set2=set()\n",
    "for i in set1:\n",
    "    if i%2!=0:\n",
    "        set2.add(i)\n",
    "print(set2)"
   ]
  },
  {
   "cell_type": "code",
   "execution_count": null,
   "metadata": {},
   "outputs": [],
   "source": [
    "n=int(input())\n",
    "s=set()\n",
    "for i in range(1,n+1):\n",
    "    s.add(i)\n",
    "print(s)"
   ]
  },
  {
   "cell_type": "code",
   "execution_count": null,
   "metadata": {},
   "outputs": [],
   "source": [
    "set1=set(map(int,input().split()))\n",
    "set2=set(map(int,input().split()))\n",
    "s=set1 | set2\n",
    "print(s)"
   ]
  },
  {
   "cell_type": "code",
   "execution_count": null,
   "metadata": {},
   "outputs": [],
   "source": [
    "set1=set(map(int,input().split()))\n",
    "set2=set(map(int,input().split()))\n",
    "s=set1 & set2\n",
    "if len(s)==0:\n",
    "    print(\"yes\")\n",
    "else:\n",
    "    print(\"no\")"
   ]
  },
  {
   "cell_type": "code",
   "execution_count": null,
   "metadata": {},
   "outputs": [],
   "source": [
    "l=input().split()\n",
    "l=set(l)\n",
    "print(l)"
   ]
  },
  {
   "cell_type": "code",
   "execution_count": null,
   "metadata": {},
   "outputs": [],
   "source": [
    "l=input().split()\n",
    "l=set(l)\n",
    "print(len(l))"
   ]
  },
  {
   "cell_type": "code",
   "execution_count": null,
   "metadata": {},
   "outputs": [],
   "source": [
    "import random\n",
    "size = int(input(\"Enter the number of elements:\"))\n",
    "min_val = int(input(\"Enter the minimum value: \"))\n",
    "max_val = int(input(\"Enter the maximum value: \"))\n",
    "random_set = set()\n",
    "while len(random_set) < size:\n",
    "    random_set.add(random.randint(min_val, max_val))\n",
    "\n",
    "print(random_set)"
   ]
  },
  {
   "cell_type": "markdown",
   "metadata": {},
   "source": [
    "Tuple tasks"
   ]
  },
  {
   "cell_type": "code",
   "execution_count": null,
   "metadata": {},
   "outputs": [],
   "source": [
    "t=tuple(map(int,input().split()))\n",
    "a=int(input())\n",
    "print(t.count(a))\n"
   ]
  },
  {
   "cell_type": "code",
   "execution_count": null,
   "metadata": {},
   "outputs": [],
   "source": [
    "t=tuple(map(int,input().split()))\n",
    "print(max(t))"
   ]
  },
  {
   "cell_type": "code",
   "execution_count": null,
   "metadata": {},
   "outputs": [],
   "source": [
    "t=tuple(map(int,input().split()))\n",
    "print(min(t))"
   ]
  },
  {
   "cell_type": "code",
   "execution_count": null,
   "metadata": {},
   "outputs": [],
   "source": [
    "t=tuple(map(int,input().split()))\n",
    "a=int(input())\n",
    "a in t"
   ]
  },
  {
   "cell_type": "code",
   "execution_count": null,
   "metadata": {},
   "outputs": [],
   "source": [
    "t=tuple(map(int,input().split()))\n",
    "if len(t)==0:\n",
    "    print(\"empty\")\n",
    "else:\n",
    "    print(t[0])"
   ]
  },
  {
   "cell_type": "code",
   "execution_count": null,
   "metadata": {},
   "outputs": [],
   "source": [
    "t=tuple(map(int,input().split()))\n",
    "if len(t)==0:\n",
    "    print(\"empty\")\n",
    "else:\n",
    "    print(t[-1])"
   ]
  },
  {
   "cell_type": "code",
   "execution_count": null,
   "metadata": {},
   "outputs": [],
   "source": [
    "list1 = input().split()\n",
    "tuple1 = tuple(list1)\n",
    "print(len(tuple1))"
   ]
  },
  {
   "cell_type": "code",
   "execution_count": null,
   "metadata": {},
   "outputs": [],
   "source": [
    "list1 = input().split()\n",
    "tuple1 = tuple(list1)\n",
    "new_tuple = tuple1[0:3]\n",
    "print(new_tuple)"
   ]
  },
  {
   "cell_type": "code",
   "execution_count": null,
   "metadata": {},
   "outputs": [],
   "source": [
    "list1 = input().split()\n",
    "tuple1 = tuple(list1)\n",
    "list2 = input().split()\n",
    "tuple2 = tuple(list2)\n",
    "new_tuple = tuple1 + tuple2\n",
    "print(new_tuple)"
   ]
  },
  {
   "cell_type": "code",
   "execution_count": null,
   "metadata": {},
   "outputs": [],
   "source": [
    "list1 = input().split()\n",
    "tuple1 = tuple(list1)\n",
    "print(bool(tuple1))"
   ]
  },
  {
   "cell_type": "code",
   "execution_count": null,
   "metadata": {},
   "outputs": [],
   "source": [
    "list1 = input().split()\n",
    "tuple1 = tuple(list1)\n",
    "element = input()\n",
    "indices = []\n",
    "for x in range(len(tuple1)):\n",
    "    if element==tuple1[x]:\n",
    "        indices.append(x)\n",
    "print(indices)"
   ]
  },
  {
   "cell_type": "code",
   "execution_count": null,
   "metadata": {},
   "outputs": [],
   "source": [
    "list1 = list(map(int, input().split()))\n",
    "tuple1 = tuple(list1)\n",
    "for x in tuple1:\n",
    "    if x==max(tuple1):\n",
    "        new_tuple = list(tuple1)\n",
    "        new_tuple.remove(x)\n",
    "print(max(new_tuple))"
   ]
  },
  {
   "cell_type": "code",
   "execution_count": null,
   "metadata": {},
   "outputs": [],
   "source": [
    "list1 = list(map(int, input().split()))\n",
    "tuple1 = tuple(list1)\n",
    "for x in tuple1:\n",
    "    if x==min(tuple1):\n",
    "        new_tuple = list(tuple1)\n",
    "        new_tuple.remove(x)\n",
    "print(min(new_tuple))"
   ]
  },
  {
   "cell_type": "code",
   "execution_count": null,
   "metadata": {},
   "outputs": [],
   "source": [
    "tuple1 = (1,)\n",
    "print(len(tuple1))"
   ]
  },
  {
   "cell_type": "code",
   "execution_count": null,
   "metadata": {},
   "outputs": [],
   "source": [
    "list1 = input().split()\n",
    "tuple1 = tuple(list1)\n",
    "type(tuple1)"
   ]
  },
  {
   "cell_type": "code",
   "execution_count": null,
   "metadata": {},
   "outputs": [],
   "source": [
    "list1 = input().split()\n",
    "tuple1 = tuple(list1)\n",
    "sorted_tuple = tuple(sorted(tuple1))\n",
    "print(bool(tuple1==sorted_tuple))"
   ]
  },
  {
   "cell_type": "code",
   "execution_count": null,
   "metadata": {},
   "outputs": [],
   "source": [
    "tuple1 = ((1, 2, 3), (3, 4, 6), (5, 8, 9))\n",
    "subtuple1 = tuple1[1]\n",
    "print(max(subtuple1))"
   ]
  },
  {
   "cell_type": "code",
   "execution_count": null,
   "metadata": {},
   "outputs": [],
   "source": [
    "tuple1 = ((1, 2, 3), (3, 4, 6), (5, 8, 9))\n",
    "subtuple1 = tuple1[1]\n",
    "print(min(subtuple1))"
   ]
  },
  {
   "cell_type": "code",
   "execution_count": null,
   "metadata": {},
   "outputs": [],
   "source": [
    "info = (\"Aslbek\", \"Raxmatov\", 18, 1, 18, 'student')\n",
    "element = \"student\"\n",
    "list1 = list(info)\n",
    "list1.remove(\"student\")\n",
    "new_info = tuple(list1)\n",
    "print(new_info)"
   ]
  },
  {
   "cell_type": "code",
   "execution_count": null,
   "metadata": {},
   "outputs": [],
   "source": [
    "original_tuple = tuple(range(1,10))\n",
    "subtuple_size = 3\n",
    "nested_tuple =tuple(original_tuple[x:x+subtuple_size] for x in range(0, len(original_tuple), subtuple_size))\n",
    "print(nested_tuple)"
   ]
  },
  {
   "cell_type": "code",
   "execution_count": null,
   "metadata": {},
   "outputs": [],
   "source": [
    "list1 = input().split()\n",
    "n = int(input())\n",
    "new_list = []\n",
    "for x in list1:\n",
    "    for i in range(n):\n",
    "        new_list.append(x)\n",
    "tuple1 = tuple(new_list)\n",
    "print(tuple1)"
   ]
  },
  {
   "cell_type": "code",
   "execution_count": null,
   "metadata": {},
   "outputs": [],
   "source": [
    "tuple1 = tuple(range(1,10))\n",
    "print(tuple1)"
   ]
  },
  {
   "cell_type": "code",
   "execution_count": null,
   "metadata": {},
   "outputs": [],
   "source": [
    "tuple1 = tuple(input().split())\n",
    "list1 = reversed(list(tuple1))\n",
    "reversed_tuple = tuple(list1)\n",
    "print(reversed_tuple)"
   ]
  },
  {
   "cell_type": "code",
   "execution_count": null,
   "metadata": {},
   "outputs": [],
   "source": [
    "tuple1 = tuple(input(\"Enter the first tuple: \").split())\n",
    "list1 = list(tuple1)\n",
    "reversed_list = list1[::-1]\n",
    "if list1==reversed_list:\n",
    "    print(\"Palindrome\")\n",
    "else: print(\"Not palindrome\")"
   ]
  },
  {
   "cell_type": "code",
   "execution_count": null,
   "metadata": {},
   "outputs": [],
   "source": [
    "tuple1 = tuple(input().split())\n",
    "unique_list = []\n",
    "for x in tuple1:\n",
    "    if x not in unique_list:\n",
    "        unique_list.append(x)\n",
    "unique_list = tuple(unique_list)\n",
    "print(unique_list)"
   ]
  },
  {
   "cell_type": "markdown",
   "metadata": {},
   "source": [
    "Dictionary tasks"
   ]
  },
  {
   "cell_type": "code",
   "execution_count": null,
   "metadata": {},
   "outputs": [],
   "source": [
    "dictionary1 = {\"name\":'Ali', \"age\": 18, \"job\": \"student\"}\n",
    "if bool(dictionary1):\n",
    "    print(dictionary1[\"name\"])\n",
    "else:\n",
    "    print(\"The dict is empty\")"
   ]
  },
  {
   "cell_type": "code",
   "execution_count": null,
   "metadata": {},
   "outputs": [],
   "source": [
    "dictionary1 = {\"name\":'Ali', \"age\": 18, \"job\": \"student\"}\n",
    "key = \"age\"\n",
    "print(bool(key in dictionary1.keys()))"
   ]
  },
  {
   "cell_type": "code",
   "execution_count": null,
   "metadata": {},
   "outputs": [],
   "source": [
    "dictionary1 = {\"name\":'Ali', \"age\": 18, \"job\": \"student\"}\n",
    "print(len(dictionary1.keys()))"
   ]
  },
  {
   "cell_type": "code",
   "execution_count": null,
   "metadata": {},
   "outputs": [],
   "source": [
    "dictionary1 = {\"name\":'Ali', \"age\": 18, \"job\": \"student\"}\n",
    "keys_list = dictionary1.keys()\n",
    "print(keys_list)"
   ]
  },
  {
   "cell_type": "code",
   "execution_count": null,
   "metadata": {},
   "outputs": [],
   "source": [
    "dictionary1 = {\"name\":'Ali', \"age\": 18, \"job\": \"student\"}\n",
    "values_list = dictionary1.values()\n",
    "print(values_list)"
   ]
  },
  {
   "cell_type": "code",
   "execution_count": null,
   "metadata": {},
   "outputs": [],
   "source": [
    "fclub1 = {\"name\" : \"Real Madrid\", \"year\" : 1902, \"country\": \"Spain\"}\n",
    "fclub_more = {\"liga\" : \"Laliga\", \"rank\" : 1, \"point\": 50}\n",
    "combined_dict = fclub1.copy()\n",
    "combined_dict.update(fclub2)\n",
    "print(combined_dict)"
   ]
  },
  {
   "cell_type": "code",
   "execution_count": null,
   "metadata": {},
   "outputs": [],
   "source": [
    "dictionary1 = {\"name\":'Ali', \"age\": 18, \"job\": \"student\"}\n",
    "key = \"name\"\n",
    "if key in dictionary1.keys():\n",
    "    dictionary1.pop(key)\n",
    "    print(dictionary1)\n",
    "else:\n",
    "    print(\"There is no such a key\")"
   ]
  },
  {
   "cell_type": "code",
   "execution_count": null,
   "metadata": {},
   "outputs": [],
   "source": [
    "dictionary1 = {\"name\":'Ali', \"age\": 18, \"job\": \"student\"}\n",
    "dictionary1.clear()\n",
    "print(dictionary1)"
   ]
  },
  {
   "cell_type": "code",
   "execution_count": null,
   "metadata": {},
   "outputs": [],
   "source": [
    "dictionary1 = {\"name\":'Ali', \"age\": 18, \"job\": \"student\"}\n",
    "print(bool(dictionary1))"
   ]
  },
  {
   "cell_type": "code",
   "execution_count": null,
   "metadata": {},
   "outputs": [],
   "source": [
    "dictionary1 = {\"name\":'Ali', \"age\": 18, \"job\": \"student\"}\n",
    "key = \"name\"\n",
    "if key in dictionary1.keys():\n",
    "    print(f\"{key} : {dictionary1[key]}\")\n",
    "else:\n",
    "    print(\"There is no such a key!\")"
   ]
  },
  {
   "cell_type": "code",
   "execution_count": null,
   "metadata": {},
   "outputs": [],
   "source": [
    "dictionary1 = {\"name\":'Ali', \"age\": 18, \"job\": \"student\"}\n",
    "dictionary1.update({'age':17})\n",
    "print(dictionary1)"
   ]
  },
  {
   "cell_type": "code",
   "execution_count": null,
   "metadata": {},
   "outputs": [],
   "source": [
    "dictionary1 = {\"name\":'Ali', \"age\": 18, \"job\": \"student\", 'date': 18}\n",
    "val1 = 17\n",
    "occurs = []\n",
    "for x in dictionary1.values():\n",
    "    if x==val1:\n",
    "        occurs.append(x)\n",
    "print(len(occurs))"
   ]
  },
  {
   "cell_type": "code",
   "execution_count": null,
   "metadata": {},
   "outputs": [],
   "source": [
    "dictionary1 = {\"name\":'Ali', \"age\": 18, \"job\": \"student\", 'date': 19}\n",
    "new_dict = {values : keys for keys, values in dictionary1.items()}\n",
    "print(new_dict)"
   ]
  },
  {
   "cell_type": "code",
   "execution_count": null,
   "metadata": {},
   "outputs": [],
   "source": [
    "dictionary1 = {\"name\":'Ali', \"age\": 18, \"job\": \"student\", 'date': 18}\n",
    "value1 = 18\n",
    "key_list = []\n",
    "for x in dictionary1.keys():\n",
    "    if dictionary1[x] == value1:\n",
    "        key_list.append(x)\n",
    "print(key_list)"
   ]
  },
  {
   "cell_type": "code",
   "execution_count": null,
   "metadata": {},
   "outputs": [],
   "source": [
    "keys = input().split()\n",
    "values = input().split()\n",
    "dict1 = dict(zip(keys, values))\n",
    "print(dict1)"
   ]
  },
  {
   "cell_type": "code",
   "execution_count": null,
   "metadata": {},
   "outputs": [],
   "source": [
    "dictionary1 = {\"name\":'Ali', \"age\": 18, \"job\": {\"univer\": \"newuu\"}, 'date': 19}\n",
    "checker = False\n",
    "for x in dictionary1.values():\n",
    "    if isinstance(x, dict):\n",
    "        checker = True\n",
    "if checker:\n",
    "    print(\"Nested dictionary\")\n",
    "else:\n",
    "    print(\"Not nested dictionary\")"
   ]
  },
  {
   "cell_type": "code",
   "execution_count": null,
   "metadata": {},
   "outputs": [],
   "source": [
    "dictionary1 = {\"name\":'Ali', \"age\": 18, \"job\": {\"univer\": \"newuu\"}, 'date': {\"month\" :5, \"day\":19}}\n",
    "dictionary1[\"date\"]['day']"
   ]
  },
  {
   "cell_type": "code",
   "execution_count": null,
   "metadata": {},
   "outputs": [],
   "source": [
    "from collections import defaultdict\n",
    "dict1 = defaultdict(lambda : \"No value\")\n",
    "dict1['fruit'] = 'apple'\n",
    "print(dict1['fruit'])"
   ]
  },
  {
   "cell_type": "code",
   "execution_count": null,
   "metadata": {},
   "outputs": [],
   "source": [
    "dictionary1 = {\"name\":'Ali', \"age\": 18, \"job\": {\"univer\": \"newuu\"}, 'date': 18}\n",
    "unique = []\n",
    "for x in dictionary1.values():\n",
    "    if x not in unique:\n",
    "        unique.append(x)\n",
    "print(len(unique))"
   ]
  },
  {
   "cell_type": "code",
   "execution_count": null,
   "metadata": {},
   "outputs": [],
   "source": [
    "dict1 = {\"name\":'Ali', \"age\": 18, \"job\": {\"univer\": \"newuu\"}, 'date': 18}\n",
    "keys = list(dict1.keys())\n",
    "keys.sort()\n",
    "sorted_dict = {x : dict[x] for x in keys}\n",
    "print(sorted_dict)"
   ]
  },
  {
   "cell_type": "code",
   "execution_count": null,
   "metadata": {},
   "outputs": [],
   "source": [
    "dict1 = {\"name\":'Ali', \"age\": 18, \"job\": \"student\", 'date': 19}\n",
    "sorted_dict = dict(sorted(dict1.items(), key = lambda x : str(x[1])))\n",
    "print(sorted_dict)"
   ]
  },
  {
   "cell_type": "code",
   "execution_count": null,
   "metadata": {},
   "outputs": [],
   "source": [
    "dict1 = {\"name\":'Ali', \"age\": \"18\", \"job\": \"student\", 'date': \"19\"}\n",
    "for k in dict1.keys():\n",
    "    if len(dict1[k])>6:\n",
    "        filtered_dict = {k:dict1[k]}\n",
    "print(filtered_dict)"
   ]
  },
  {
   "cell_type": "code",
   "execution_count": null,
   "metadata": {},
   "outputs": [],
   "source": [
    "dict1 = {\"name\" : \"Real Madrid\", \"year\" : 1902, \"country\": \"Spain\"}\n",
    "dict2 = {\"liga\" : \"Laliga\", \"rank\" : 1, \"point\": 50, \"name\" : \"Nasaf\"}\n",
    "set_keys1 = set(dict1.keys())\n",
    "set_keys2 = set(dict2.keys())\n",
    "print(bool(set_keys1 & set_keys2))"
   ]
  },
  {
   "cell_type": "code",
   "execution_count": null,
   "metadata": {},
   "outputs": [],
   "source": [
    "tuple1 = (('name', 'Ali'), ('age', 18), ('job', 'student'))\n",
    "dict1 = dict(tuple1)\n",
    "print(dict1)"
   ]
  },
  {
   "cell_type": "code",
   "execution_count": null,
   "metadata": {},
   "outputs": [],
   "source": [
    "dict1 = {\"name\" : \"Real Madrid\", \"year\" : 1902, \"country\": \"Spain\"}\n",
    "list_keys = list(dict1.keys())\n",
    "list_values = list(dict1.values())\n",
    "print(f\"{list_keys[0]} : {list_values[0]}\")"
   ]
  }
 ],
 "metadata": {
  "kernelspec": {
   "display_name": "Python 3",
   "language": "python",
   "name": "python3"
  },
  "language_info": {
   "codemirror_mode": {
    "name": "ipython",
    "version": 3
   },
   "file_extension": ".py",
   "mimetype": "text/x-python",
   "name": "python",
   "nbconvert_exporter": "python",
   "pygments_lexer": "ipython3",
   "version": "3.12.8"
  }
 },
 "nbformat": 4,
 "nbformat_minor": 2
}
