{
 "cells": [
  {
   "cell_type": "markdown",
   "metadata": {},
   "source": [
    "1. Return uncommon elements of lists. Order of elements does not matter."
   ]
  },
  {
   "cell_type": "code",
   "execution_count": null,
   "metadata": {},
   "outputs": [],
   "source": [
    "list1=input().split()\n",
    "list2=input().split()\n",
    "k=[]\n",
    "for i in list1:\n",
    "    if i not in list2:\n",
    "        k.append(i)\n",
    "for j in list2:\n",
    "    if j not in list1:\n",
    "        k.append(j)\n",
    "print(k)"
   ]
  },
  {
   "cell_type": "markdown",
   "metadata": {},
   "source": [
    "2. Print the square of each number which is less than n on a separate line."
   ]
  },
  {
   "cell_type": "code",
   "execution_count": null,
   "metadata": {},
   "outputs": [],
   "source": [
    "n=int(input())\n",
    "i=1\n",
    "while i<n:\n",
    "    print(i**2)\n",
    "    i+=1"
   ]
  },
  {
   "cell_type": "markdown",
   "metadata": {},
   "source": [
    "3. txt nomli string saqlovchi o'zgaruvchi berilgan. txtdagi har uchinchi belgidan keyin pastgi chiziqcha (underscore) qo'yilsin. Agar belgi unli harf yoki orqasidan ostki chiziqcha qo'yilgan harf bo'lsa, ostki chiziqcha keyingi harfdan keyin qo'yilsin. Agar belgi satrdagi oxirgi belgi bo'lsa chiziqcha qo'yilmasin."
   ]
  },
  {
   "cell_type": "code",
   "execution_count": null,
   "metadata": {},
   "outputs": [],
   "source": [
    "a=input()\n",
    "b=\"\"\n",
    "l=[\"a\",\"e\",\"u\",\"o\",\"i\"]\n",
    "i=0\n",
    "while i<len(a):\n",
    "    if i+3>len(a):\n",
    "        b=b+a[i:]\n",
    "        i=i+3\n",
    "    else:\n",
    "        if a[(i+3)-1]==a[-1]:\n",
    "            b=b+a[(i):(i+3)]\n",
    "            i=i+3\n",
    "        else:\n",
    "            if a[(i+3)-1] not in l:\n",
    "                b=b+a[(i):(i+3)]+\"_\"\n",
    "                l.append(a[i+2])\n",
    "                i=i+3\n",
    "            else:\n",
    "                b=b+a[i]\n",
    "                i=i+1     \n",
    "print(b)   \n",
    "            \n",
    "            \n"
   ]
  },
  {
   "cell_type": "markdown",
   "metadata": {},
   "source": [
    "4. Number Guessing Game Create a simple number guessing game.\n",
    "\n",
    "The computer randomly selects a number between 1 and 100.\n",
    "If the guess is high, print \"Too high!\".\n",
    "If the guess is low, print \"Too low!\".\n",
    "If they guess correctly, print \"You guessed it right!\" and exit the loop.\n",
    "The player has 10 attempts to guess it. If the player can not find the correct number in 10 attempts, print \"You lost. Want to play again? \".\n",
    "If the player types one of 'Y', 'YES', 'y', 'yes', 'ok' then start the game from the beginning."
   ]
  },
  {
   "cell_type": "code",
   "execution_count": null,
   "metadata": {},
   "outputs": [],
   "source": [
    "import random\n",
    "n=random.randint(1,100)\n",
    "\n",
    "for j in range(1,1000000):\n",
    "    s=0\n",
    "    for i in range(10):\n",
    "        a=int(input())\n",
    "        if a<n:\n",
    "            print(\"too low\")\n",
    "        elif a>n:\n",
    "            print(\"too high\")\n",
    "        else:\n",
    "            print(\"you won\")\n",
    "            s=s+1\n",
    "            break\n",
    "    if s==0:\n",
    "        print(\"You lost. Want to play again?\")\n",
    "        b=input()\n",
    "        x=[\"Y\",\"YES\",\"y\",\"yes\",\"ok\"]\n",
    "        if b not in x:\n",
    "            break\n",
    "    \n"
   ]
  },
  {
   "cell_type": "markdown",
   "metadata": {},
   "source": [
    ". Password Checker Task: Create a simple password checker.\n",
    "\n",
    "Ask the user to enter a password.\n",
    "If the password is shorter than 8 characters, print \"Password is too short.\"\n",
    "If the password doesn’t contain at least one uppercase letter, print \"Password must contain an uppercase letter.\".\n",
    "If the password meets both criteria, print \"Password is strong.\""
   ]
  },
  {
   "cell_type": "code",
   "execution_count": null,
   "metadata": {},
   "outputs": [],
   "source": [
    "a=input()\n",
    "if len(a)<8:\n",
    "    print(\"Password is too short\")\n",
    "s=0\n",
    "for i in range(len(a)):\n",
    "    if a[i].upper()==a[i]:\n",
    "        s=s+1\n",
    "if s==0:\n",
    "    print(\"Password must contain an uppercase letter.\")\n",
    "else:\n",
    "    print(\"Password is strong\")"
   ]
  },
  {
   "cell_type": "markdown",
   "metadata": {},
   "source": [
    "6. Prime Numbers Task: Write a Python program that prints all prime numbers between 1 and 100."
   ]
  },
  {
   "cell_type": "code",
   "execution_count": null,
   "metadata": {},
   "outputs": [],
   "source": [
    "l=[]\n",
    "for i in range(2,101):\n",
    "    s=0\n",
    "    for j in range(2,i):\n",
    "        if i%j==0:\n",
    "            s=s+1\n",
    "    if s==0:\n",
    "        l.append(i)\n",
    "print(l)"
   ]
  }
 ],
 "metadata": {
  "kernelspec": {
   "display_name": "Python 3",
   "language": "python",
   "name": "python3"
  },
  "language_info": {
   "codemirror_mode": {
    "name": "ipython",
    "version": 3
   },
   "file_extension": ".py",
   "mimetype": "text/x-python",
   "name": "python",
   "nbconvert_exporter": "python",
   "pygments_lexer": "ipython3",
   "version": "3.12.8"
  }
 },
 "nbformat": 4,
 "nbformat_minor": 2
}
