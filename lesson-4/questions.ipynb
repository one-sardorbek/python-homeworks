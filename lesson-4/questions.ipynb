{
 "cells": [
  {
   "cell_type": "markdown",
   "metadata": {},
   "source": [
    "1.Loop quiz: got 11.5 out of 13"
   ]
  },
  {
   "cell_type": "markdown",
   "metadata": {},
   "source": [
    "2.What is the difference between the continue and break statements in Python?\n",
    "\n",
    "Break immedietly stops the loop while continue skips the current iteration and moves to the next one."
   ]
  },
  {
   "cell_type": "markdown",
   "metadata": {},
   "source": [
    "3.Can you explain the difference between for loop and while loop?\n",
    "For loop Used when the number of iterations is known or iterable data is available (like a list, tuple, range, string, etc.).\n",
    "while loop Used when the number of iterations is unknown and depends on a condition.\n",
    "Continues running as long as the condition remains True.\n"
   ]
  },
  {
   "cell_type": "markdown",
   "metadata": {},
   "source": [
    "4.How would you implement a nested for loop system? Provide an example.\n",
    "A nested for loop is a loop inside another loop. The inner loop runs completely for each iteration of the outer loop.\n"
   ]
  },
  {
   "cell_type": "code",
   "execution_count": 1,
   "metadata": {},
   "outputs": [
    {
     "name": "stdout",
     "output_type": "stream",
     "text": [
      "1 x 1 = 1\n",
      "1 x 2 = 2\n",
      "1 x 3 = 3\n",
      "------\n",
      "2 x 1 = 2\n",
      "2 x 2 = 4\n",
      "2 x 3 = 6\n",
      "------\n",
      "3 x 1 = 3\n",
      "3 x 2 = 6\n",
      "3 x 3 = 9\n",
      "------\n"
     ]
    }
   ],
   "source": [
    "for i in range(1, 4):  # Outer loop\n",
    "    for j in range(1, 4):  # Inner loop\n",
    "        print(f\"{i} x {j} = {i * j}\")\n",
    "    print(\"------\")  # Separate each outer loop iteration\n"
   ]
  }
 ],
 "metadata": {
  "kernelspec": {
   "display_name": "Python 3",
   "language": "python",
   "name": "python3"
  },
  "language_info": {
   "codemirror_mode": {
    "name": "ipython",
    "version": 3
   },
   "file_extension": ".py",
   "mimetype": "text/x-python",
   "name": "python",
   "nbconvert_exporter": "python",
   "pygments_lexer": "ipython3",
   "version": "3.12.8"
  }
 },
 "nbformat": 4,
 "nbformat_minor": 2
}
