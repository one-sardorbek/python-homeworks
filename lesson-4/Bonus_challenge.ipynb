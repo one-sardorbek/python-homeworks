{
 "cells": [
  {
   "cell_type": "markdown",
   "metadata": {},
   "source": [
    "Task: Create a simple text-based Rock, Paper, Scissors game where the player plays against the computer.\n",
    "\n",
    "The computer randomly chooses rock, paper, or scissors using random.choice().\n",
    "The player enters their choice.\n",
    "Display the winner and keep track of scores for the player and the computer.\n",
    "First to 5 points wins the match."
   ]
  },
  {
   "cell_type": "code",
   "execution_count": null,
   "metadata": {},
   "outputs": [],
   "source": [
    "import random\n",
    "player_score=0\n",
    "computer_score=0\n",
    "choices=[\"rock\",\"paper\",\"scissor\"]\n",
    "while player_score<5 or computer_score<5:\n",
    "    player_choice = input(\"Enter rock, paper, or scissors: \").lower()\n",
    "    \n",
    "    if player_choice not in choices:\n",
    "        print(\"Invalid choice. Try again.\")\n",
    "        continue\n",
    "    computer_choice = random.choice(choices)\n",
    "    if player_choice==computer_choice:\n",
    "        print(\"draw\")\n",
    "    elif (player_choice==\"rock\" and computer_choice==\"paper\") or (player_choice==\"paper\" and computer_choice==\"scissor\") or (player_choice==\"scissor\" and computer_choice==\"rock\"):\n",
    "        print(\"You lost this round\")\n",
    "        computer_score+=1\n",
    "    elif (computer_choice==\"rock\" and player_choice==\"paper\") or (computer_choice==\"paper\" and player_choice==\"scissor\") or (computer_choice==\"scissor\" and player_choice==\"rock\"):\n",
    "        print(\"You won this round\")\n",
    "        player_score+=1\n",
    "if player_score==5:\n",
    "    print(\"You won the game\")\n",
    "else:\n",
    "    print(\"You lost the game\")\n"
   ]
  }
 ],
 "metadata": {
  "kernelspec": {
   "display_name": "Python 3",
   "language": "python",
   "name": "python3"
  },
  "language_info": {
   "codemirror_mode": {
    "name": "ipython",
    "version": 3
   },
   "file_extension": ".py",
   "mimetype": "text/x-python",
   "name": "python",
   "nbconvert_exporter": "python",
   "pygments_lexer": "ipython3",
   "version": "3.12.8"
  }
 },
 "nbformat": 4,
 "nbformat_minor": 2
}
