{
 "cells": [
  {
   "cell_type": "markdown",
   "metadata": {},
   "source": [
    "1.Loop quiz: got 11.5 out of 13"
   ]
  },
  {
   "cell_type": "markdown",
   "metadata": {},
   "source": [
    "2.What is the difference between the continue and break statements in Python?\n",
    "\n",
    "Break immedietly stops the loop while continue skips the current iteration and moves to the next one."
   ]
  },
  {
   "cell_type": "markdown",
   "metadata": {},
   "source": [
    "3.Can you explain the difference between for loop and while loop? For loop Used when the number of iterations is known or iterable data is available (like a list, tuple, range, string, etc.). while loop Used when the number of iterations is unknown and depends on a condition. Continues running as long as the condition remains True."
   ]
  },
  {
   "cell_type": "markdown",
   "metadata": {},
   "source": [
    "4.How would you implement a nested for loop system? Provide an example. A nested for loop is a loop inside another loop. The inner loop runs completely for each iteration of the outer loop."
   ]
  },
  {
   "cell_type": "code",
   "execution_count": null,
   "metadata": {},
   "outputs": [],
   "source": [
    "for i in range(1, 4):  # Outer loop\n",
    "    for j in range(1, 4):  # Inner loop\n",
    "        print(f\"{i} x {j} = {i * j}\")\n",
    "    print(\"------\")  # Separate each outer loop iteration"
   ]
  }
 ],
 "metadata": {
  "kernelspec": {
   "display_name": "Python 3",
   "language": "python",
   "name": "python3"
  },
  "language_info": {
   "name": "python",
   "version": "3.12.8"
  }
 },
 "nbformat": 4,
 "nbformat_minor": 2
}
